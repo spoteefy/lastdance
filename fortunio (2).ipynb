{
 "cells": [
  {
   "cell_type": "code",
   "execution_count": 1,
   "id": "fddf5497",
   "metadata": {
    "execution": {
     "iopub.execute_input": "2024-06-29T05:56:09.177383Z",
     "iopub.status.busy": "2024-06-29T05:56:09.176835Z",
     "iopub.status.idle": "2024-06-29T05:56:11.213759Z",
     "shell.execute_reply": "2024-06-29T05:56:11.212300Z"
    },
    "executionInfo": {
     "elapsed": 5496,
     "status": "ok",
     "timestamp": 1714853848006,
     "user": {
      "displayName": "Van Tho Nguyen",
      "userId": "16818817557293514665"
     },
     "user_tz": -420
    },
    "id": "Sj3gv6VKZY1K",
    "outputId": "41bbb870-b919-4502-d4c0-69aea54ee690",
    "papermill": {
     "duration": 2.047791,
     "end_time": "2024-06-29T05:56:11.217331",
     "exception": false,
     "start_time": "2024-06-29T05:56:09.169540",
     "status": "completed"
    },
    "tags": []
   },
   "outputs": [
    {
     "name": "stdout",
     "output_type": "stream",
     "text": [
      "Cloning into 'lastdance'...\r\n",
      "remote: Enumerating objects: 337, done.\u001b[K\r\n",
      "remote: Counting objects: 100% (265/265), done.\u001b[K\r\n",
      "remote: Compressing objects: 100% (152/152), done.\u001b[K\r\n",
      "remote: Total 337 (delta 148), reused 197 (delta 113), pack-reused 72\u001b[K\r\n",
      "Receiving objects: 100% (337/337), 735.39 KiB | 7.21 MiB/s, done.\r\n",
      "Resolving deltas: 100% (151/151), done.\r\n"
     ]
    }
   ],
   "source": [
    "!git clone https://github.com/spoteefy/lastdance.git"
   ]
  },
  {
   "cell_type": "code",
   "execution_count": 2,
   "id": "be85fa09",
   "metadata": {
    "execution": {
     "iopub.execute_input": "2024-06-29T05:56:11.232287Z",
     "iopub.status.busy": "2024-06-29T05:56:11.231850Z",
     "iopub.status.idle": "2024-06-29T05:56:29.128864Z",
     "shell.execute_reply": "2024-06-29T05:56:29.127278Z"
    },
    "papermill": {
     "duration": 17.908008,
     "end_time": "2024-06-29T05:56:29.132282",
     "exception": false,
     "start_time": "2024-06-29T05:56:11.224274",
     "status": "completed"
    },
    "tags": []
   },
   "outputs": [],
   "source": [
    "!pip3 install -q gdown"
   ]
  },
  {
   "cell_type": "code",
   "execution_count": 3,
   "id": "db5698d8",
   "metadata": {
    "execution": {
     "iopub.execute_input": "2024-06-29T05:56:29.146659Z",
     "iopub.status.busy": "2024-06-29T05:56:29.146209Z",
     "iopub.status.idle": "2024-06-29T05:56:29.155093Z",
     "shell.execute_reply": "2024-06-29T05:56:29.153766Z"
    },
    "executionInfo": {
     "elapsed": 298,
     "status": "ok",
     "timestamp": 1714880743909,
     "user": {
      "displayName": "Van Tho Nguyen",
      "userId": "16818817557293514665"
     },
     "user_tz": -420
    },
    "id": "WUIRDSNRaKCy",
    "outputId": "772b0c75-9e3f-44bf-a580-d0e49acf46f4",
    "papermill": {
     "duration": 0.01962,
     "end_time": "2024-06-29T05:56:29.157974",
     "exception": false,
     "start_time": "2024-06-29T05:56:29.138354",
     "status": "completed"
    },
    "tags": []
   },
   "outputs": [
    {
     "name": "stdout",
     "output_type": "stream",
     "text": [
      "/kaggle/working/lastdance\n"
     ]
    }
   ],
   "source": [
    "cd /kaggle/working/lastdance"
   ]
  },
  {
   "cell_type": "code",
   "execution_count": 4,
   "id": "16c750b6",
   "metadata": {
    "execution": {
     "iopub.execute_input": "2024-06-29T05:56:29.172223Z",
     "iopub.status.busy": "2024-06-29T05:56:29.171777Z",
     "iopub.status.idle": "2024-06-29T05:56:36.968363Z",
     "shell.execute_reply": "2024-06-29T05:56:36.966769Z"
    },
    "papermill": {
     "duration": 7.806942,
     "end_time": "2024-06-29T05:56:36.971382",
     "exception": false,
     "start_time": "2024-06-29T05:56:29.164440",
     "status": "completed"
    },
    "tags": []
   },
   "outputs": [
    {
     "name": "stdout",
     "output_type": "stream",
     "text": [
      "Downloading...\r\n",
      "From (original): https://drive.google.com/uc?id=1VIlf_kTgKSxW6BNnOR58XjrcnofY_FGQ\r\n",
      "From (redirected): https://drive.google.com/uc?id=1VIlf_kTgKSxW6BNnOR58XjrcnofY_FGQ&confirm=t&uuid=d2ffe929-c9df-450a-9c2b-a5bc37f2d145\r\n",
      "To: /kaggle/working/lastdance/scibert_scivocab_cased.zip\r\n",
      "100%|████████████████████████████████████████| 411M/411M [00:05<00:00, 77.3MB/s]\r\n"
     ]
    }
   ],
   "source": [
    "!gdown 1VIlf_kTgKSxW6BNnOR58XjrcnofY_FGQ"
   ]
  },
  {
   "cell_type": "code",
   "execution_count": 5,
   "id": "2da5fcdd",
   "metadata": {
    "execution": {
     "iopub.execute_input": "2024-06-29T05:56:36.993331Z",
     "iopub.status.busy": "2024-06-29T05:56:36.992910Z",
     "iopub.status.idle": "2024-06-29T05:56:44.409923Z",
     "shell.execute_reply": "2024-06-29T05:56:44.408181Z"
    },
    "papermill": {
     "duration": 7.431523,
     "end_time": "2024-06-29T05:56:44.413042",
     "exception": false,
     "start_time": "2024-06-29T05:56:36.981519",
     "status": "completed"
    },
    "tags": []
   },
   "outputs": [
    {
     "name": "stdout",
     "output_type": "stream",
     "text": [
      "Archive:  scibert_scivocab_cased.zip\r\n",
      "  inflating: ./data_config/pretrained/scibert_scivocab_cased/config.json  \r\n",
      "  inflating: ./data_config/pretrained/scibert_scivocab_cased/vocab.txt  \r\n",
      "  inflating: ./data_config/pretrained/scibert_scivocab_cased/pytorch_model.bin  \r\n"
     ]
    }
   ],
   "source": [
    "!mkdir data_config/pretrained\n",
    "!unzip scibert_scivocab_cased.zip -d ./data_config/pretrained/"
   ]
  },
  {
   "cell_type": "code",
   "execution_count": 6,
   "id": "1fb1ffa3",
   "metadata": {
    "execution": {
     "iopub.execute_input": "2024-06-29T05:56:44.434992Z",
     "iopub.status.busy": "2024-06-29T05:56:44.434585Z",
     "iopub.status.idle": "2024-06-29T05:56:44.520702Z",
     "shell.execute_reply": "2024-06-29T05:56:44.519420Z"
    },
    "papermill": {
     "duration": 0.100403,
     "end_time": "2024-06-29T05:56:44.523505",
     "exception": false,
     "start_time": "2024-06-29T05:56:44.423102",
     "status": "completed"
    },
    "tags": []
   },
   "outputs": [],
   "source": [
    "import os\n",
    "os.remove(\"/kaggle/working/lastdance/scibert_scivocab_cased.zip\")"
   ]
  },
  {
   "cell_type": "code",
   "execution_count": 7,
   "id": "230aa100",
   "metadata": {
    "execution": {
     "iopub.execute_input": "2024-06-29T05:56:44.544774Z",
     "iopub.status.busy": "2024-06-29T05:56:44.544359Z",
     "iopub.status.idle": "2024-06-29T06:00:00.225380Z",
     "shell.execute_reply": "2024-06-29T06:00:00.222887Z"
    },
    "executionInfo": {
     "elapsed": 8979,
     "status": "ok",
     "timestamp": 1714853904724,
     "user": {
      "displayName": "Van Tho Nguyen",
      "userId": "16818817557293514665"
     },
     "user_tz": -420
    },
    "id": "AT4mEUrEaMzN",
    "outputId": "15b463e4-2377-4f01-9ae3-78551d31b2b8",
    "papermill": {
     "duration": 195.695266,
     "end_time": "2024-06-29T06:00:00.228451",
     "exception": false,
     "start_time": "2024-06-29T05:56:44.533185",
     "status": "completed"
    },
    "tags": []
   },
   "outputs": [
    {
     "name": "stdout",
     "output_type": "stream",
     "text": [
      "Collecting scispacy\r\n",
      "  Downloading scispacy-0.5.4-py3-none-any.whl.metadata (16 kB)\r\n",
      "Requirement already satisfied: spacy<3.8.0,>=3.7.0 in /opt/conda/lib/python3.10/site-packages (from scispacy) (3.7.4)\r\n",
      "Collecting scipy<1.11 (from scispacy)\r\n",
      "  Downloading scipy-1.10.1-cp310-cp310-manylinux_2_17_x86_64.manylinux2014_x86_64.whl.metadata (58 kB)\r\n",
      "\u001b[2K     \u001b[90m━━━━━━━━━━━━━━━━━━━━━━━━━━━━━━━━━━━━━━━━\u001b[0m \u001b[32m58.9/58.9 kB\u001b[0m \u001b[31m2.2 MB/s\u001b[0m eta \u001b[36m0:00:00\u001b[0m\r\n",
      "\u001b[?25hRequirement already satisfied: requests<3.0.0,>=2.0.0 in /opt/conda/lib/python3.10/site-packages (from scispacy) (2.31.0)\r\n",
      "Collecting conllu (from scispacy)\r\n",
      "  Downloading conllu-4.5.3-py2.py3-none-any.whl.metadata (19 kB)\r\n",
      "Requirement already satisfied: numpy in /opt/conda/lib/python3.10/site-packages (from scispacy) (1.26.4)\r\n",
      "Requirement already satisfied: joblib in /opt/conda/lib/python3.10/site-packages (from scispacy) (1.4.0)\r\n",
      "Collecting nmslib>=1.7.3.6 (from scispacy)\r\n",
      "  Downloading nmslib-2.1.1.tar.gz (188 kB)\r\n",
      "\u001b[2K     \u001b[90m━━━━━━━━━━━━━━━━━━━━━━━━━━━━━━━━━━━━━━━\u001b[0m \u001b[32m188.7/188.7 kB\u001b[0m \u001b[31m6.8 MB/s\u001b[0m eta \u001b[36m0:00:00\u001b[0m\r\n",
      "\u001b[?25h  Preparing metadata (setup.py) ... \u001b[?25l-\b \b\\\b \b|\b \b/\b \bdone\r\n",
      "\u001b[?25hRequirement already satisfied: scikit-learn>=0.20.3 in /opt/conda/lib/python3.10/site-packages (from scispacy) (1.2.2)\r\n",
      "Collecting pysbd (from scispacy)\r\n",
      "  Downloading pysbd-0.3.4-py3-none-any.whl.metadata (6.1 kB)\r\n",
      "Collecting pybind11<2.6.2 (from nmslib>=1.7.3.6->scispacy)\r\n",
      "  Using cached pybind11-2.6.1-py2.py3-none-any.whl.metadata (8.7 kB)\r\n",
      "Requirement already satisfied: psutil in /opt/conda/lib/python3.10/site-packages (from nmslib>=1.7.3.6->scispacy) (5.9.3)\r\n",
      "Requirement already satisfied: charset-normalizer<4,>=2 in /opt/conda/lib/python3.10/site-packages (from requests<3.0.0,>=2.0.0->scispacy) (3.3.2)\r\n",
      "Requirement already satisfied: idna<4,>=2.5 in /opt/conda/lib/python3.10/site-packages (from requests<3.0.0,>=2.0.0->scispacy) (3.6)\r\n",
      "Requirement already satisfied: urllib3<3,>=1.21.1 in /opt/conda/lib/python3.10/site-packages (from requests<3.0.0,>=2.0.0->scispacy) (1.26.18)\r\n",
      "Requirement already satisfied: certifi>=2017.4.17 in /opt/conda/lib/python3.10/site-packages (from requests<3.0.0,>=2.0.0->scispacy) (2024.2.2)\r\n",
      "Requirement already satisfied: threadpoolctl>=2.0.0 in /opt/conda/lib/python3.10/site-packages (from scikit-learn>=0.20.3->scispacy) (3.2.0)\r\n",
      "Requirement already satisfied: spacy-legacy<3.1.0,>=3.0.11 in /opt/conda/lib/python3.10/site-packages (from spacy<3.8.0,>=3.7.0->scispacy) (3.0.12)\r\n",
      "Requirement already satisfied: spacy-loggers<2.0.0,>=1.0.0 in /opt/conda/lib/python3.10/site-packages (from spacy<3.8.0,>=3.7.0->scispacy) (1.0.5)\r\n",
      "Requirement already satisfied: murmurhash<1.1.0,>=0.28.0 in /opt/conda/lib/python3.10/site-packages (from spacy<3.8.0,>=3.7.0->scispacy) (1.0.10)\r\n",
      "Requirement already satisfied: cymem<2.1.0,>=2.0.2 in /opt/conda/lib/python3.10/site-packages (from spacy<3.8.0,>=3.7.0->scispacy) (2.0.8)\r\n",
      "Requirement already satisfied: preshed<3.1.0,>=3.0.2 in /opt/conda/lib/python3.10/site-packages (from spacy<3.8.0,>=3.7.0->scispacy) (3.0.9)\r\n",
      "Requirement already satisfied: thinc<8.3.0,>=8.2.2 in /opt/conda/lib/python3.10/site-packages (from spacy<3.8.0,>=3.7.0->scispacy) (8.2.3)\r\n",
      "Requirement already satisfied: wasabi<1.2.0,>=0.9.1 in /opt/conda/lib/python3.10/site-packages (from spacy<3.8.0,>=3.7.0->scispacy) (1.1.2)\r\n",
      "Requirement already satisfied: srsly<3.0.0,>=2.4.3 in /opt/conda/lib/python3.10/site-packages (from spacy<3.8.0,>=3.7.0->scispacy) (2.4.8)\r\n",
      "Requirement already satisfied: catalogue<2.1.0,>=2.0.6 in /opt/conda/lib/python3.10/site-packages (from spacy<3.8.0,>=3.7.0->scispacy) (2.0.10)\r\n",
      "Requirement already satisfied: weasel<0.4.0,>=0.1.0 in /opt/conda/lib/python3.10/site-packages (from spacy<3.8.0,>=3.7.0->scispacy) (0.3.4)\r\n",
      "Requirement already satisfied: typer<0.10.0,>=0.3.0 in /opt/conda/lib/python3.10/site-packages (from spacy<3.8.0,>=3.7.0->scispacy) (0.9.0)\r\n",
      "Requirement already satisfied: smart-open<7.0.0,>=5.2.1 in /opt/conda/lib/python3.10/site-packages (from spacy<3.8.0,>=3.7.0->scispacy) (6.4.0)\r\n",
      "Requirement already satisfied: tqdm<5.0.0,>=4.38.0 in /opt/conda/lib/python3.10/site-packages (from spacy<3.8.0,>=3.7.0->scispacy) (4.66.1)\r\n",
      "Requirement already satisfied: pydantic!=1.8,!=1.8.1,<3.0.0,>=1.7.4 in /opt/conda/lib/python3.10/site-packages (from spacy<3.8.0,>=3.7.0->scispacy) (2.5.3)\r\n",
      "Requirement already satisfied: jinja2 in /opt/conda/lib/python3.10/site-packages (from spacy<3.8.0,>=3.7.0->scispacy) (3.1.2)\r\n",
      "Requirement already satisfied: setuptools in /opt/conda/lib/python3.10/site-packages (from spacy<3.8.0,>=3.7.0->scispacy) (69.0.3)\r\n",
      "Requirement already satisfied: packaging>=20.0 in /opt/conda/lib/python3.10/site-packages (from spacy<3.8.0,>=3.7.0->scispacy) (21.3)\r\n",
      "Requirement already satisfied: langcodes<4.0.0,>=3.2.0 in /opt/conda/lib/python3.10/site-packages (from spacy<3.8.0,>=3.7.0->scispacy) (3.3.0)\r\n",
      "Requirement already satisfied: pyparsing!=3.0.5,>=2.0.2 in /opt/conda/lib/python3.10/site-packages (from packaging>=20.0->spacy<3.8.0,>=3.7.0->scispacy) (3.1.1)\r\n",
      "Requirement already satisfied: annotated-types>=0.4.0 in /opt/conda/lib/python3.10/site-packages (from pydantic!=1.8,!=1.8.1,<3.0.0,>=1.7.4->spacy<3.8.0,>=3.7.0->scispacy) (0.6.0)\r\n",
      "Requirement already satisfied: pydantic-core==2.14.6 in /opt/conda/lib/python3.10/site-packages (from pydantic!=1.8,!=1.8.1,<3.0.0,>=1.7.4->spacy<3.8.0,>=3.7.0->scispacy) (2.14.6)\r\n",
      "Requirement already satisfied: typing-extensions>=4.6.1 in /opt/conda/lib/python3.10/site-packages (from pydantic!=1.8,!=1.8.1,<3.0.0,>=1.7.4->spacy<3.8.0,>=3.7.0->scispacy) (4.9.0)\r\n",
      "Requirement already satisfied: blis<0.8.0,>=0.7.8 in /opt/conda/lib/python3.10/site-packages (from thinc<8.3.0,>=8.2.2->spacy<3.8.0,>=3.7.0->scispacy) (0.7.11)\r\n",
      "Requirement already satisfied: confection<1.0.0,>=0.0.1 in /opt/conda/lib/python3.10/site-packages (from thinc<8.3.0,>=8.2.2->spacy<3.8.0,>=3.7.0->scispacy) (0.1.4)\r\n",
      "Requirement already satisfied: click<9.0.0,>=7.1.1 in /opt/conda/lib/python3.10/site-packages (from typer<0.10.0,>=0.3.0->spacy<3.8.0,>=3.7.0->scispacy) (8.1.7)\r\n",
      "Requirement already satisfied: cloudpathlib<0.17.0,>=0.7.0 in /opt/conda/lib/python3.10/site-packages (from weasel<0.4.0,>=0.1.0->spacy<3.8.0,>=3.7.0->scispacy) (0.16.0)\r\n",
      "Requirement already satisfied: MarkupSafe>=2.0 in /opt/conda/lib/python3.10/site-packages (from jinja2->spacy<3.8.0,>=3.7.0->scispacy) (2.1.3)\r\n",
      "Downloading scispacy-0.5.4-py3-none-any.whl (45 kB)\r\n",
      "\u001b[2K   \u001b[90m━━━━━━━━━━━━━━━━━━━━━━━━━━━━━━━━━━━━━━━━\u001b[0m \u001b[32m45.4/45.4 kB\u001b[0m \u001b[31m1.7 MB/s\u001b[0m eta \u001b[36m0:00:00\u001b[0m\r\n",
      "\u001b[?25hDownloading scipy-1.10.1-cp310-cp310-manylinux_2_17_x86_64.manylinux2014_x86_64.whl (34.4 MB)\r\n",
      "\u001b[2K   \u001b[90m━━━━━━━━━━━━━━━━━━━━━━━━━━━━━━━━━━━━━━━━\u001b[0m \u001b[32m34.4/34.4 MB\u001b[0m \u001b[31m36.7 MB/s\u001b[0m eta \u001b[36m0:00:00\u001b[0m\r\n",
      "\u001b[?25hDownloading conllu-4.5.3-py2.py3-none-any.whl (16 kB)\r\n",
      "Downloading pysbd-0.3.4-py3-none-any.whl (71 kB)\r\n",
      "\u001b[2K   \u001b[90m━━━━━━━━━━━━━━━━━━━━━━━━━━━━━━━━━━━━━━━━\u001b[0m \u001b[32m71.1/71.1 kB\u001b[0m \u001b[31m2.7 MB/s\u001b[0m eta \u001b[36m0:00:00\u001b[0m\r\n",
      "\u001b[?25hUsing cached pybind11-2.6.1-py2.py3-none-any.whl (188 kB)\r\n",
      "Building wheels for collected packages: nmslib\r\n",
      "  Building wheel for nmslib (setup.py) ... \u001b[?25l-\b \b\\\b \b|\b \b/\b \b-\b \b\\\b \b|\b \b/\b \b-\b \b\\\b \b|\b \b/\b \b-\b \b\\\b \b|\b \b/\b \b-\b \b\\\b \b|\b \bdone\r\n",
      "\u001b[?25h  Created wheel for nmslib: filename=nmslib-2.1.1-cp310-cp310-linux_x86_64.whl size=876213 sha256=cc712fa4b3a14d7c091938886faeb83be5cc25a071e01947d6c2c1d390b0cc5e\r\n",
      "  Stored in directory: /root/.cache/pip/wheels/21/1a/5d/4cc754a5b1a88405cad184b76f823897a63a8d19afcd4b9314\r\n",
      "Successfully built nmslib\r\n",
      "Installing collected packages: scipy, pysbd, pybind11, conllu, nmslib, scispacy\r\n",
      "  Attempting uninstall: scipy\r\n",
      "    Found existing installation: scipy 1.11.4\r\n",
      "    Uninstalling scipy-1.11.4:\r\n",
      "      Successfully uninstalled scipy-1.11.4\r\n",
      "  Attempting uninstall: pybind11\r\n",
      "    Found existing installation: pybind11 2.12.0\r\n",
      "    Uninstalling pybind11-2.12.0:\r\n",
      "      Successfully uninstalled pybind11-2.12.0\r\n",
      "\u001b[31mERROR: pip's dependency resolver does not currently take into account all the packages that are installed. This behaviour is the source of the following dependency conflicts.\r\n",
      "kaggle-environments 1.14.3 requires scipy>=1.11.2, but you have scipy 1.10.1 which is incompatible.\r\n",
      "libpysal 4.9.2 requires packaging>=22, but you have packaging 21.3 which is incompatible.\r\n",
      "libpysal 4.9.2 requires shapely>=2.0.1, but you have shapely 1.8.5.post1 which is incompatible.\r\n",
      "momepy 0.7.0 requires shapely>=2, but you have shapely 1.8.5.post1 which is incompatible.\r\n",
      "spopt 0.6.0 requires shapely>=2.0.1, but you have shapely 1.8.5.post1 which is incompatible.\r\n",
      "ydata-profiling 4.6.4 requires numpy<1.26,>=1.16.0, but you have numpy 1.26.4 which is incompatible.\u001b[0m\u001b[31m\r\n",
      "\u001b[0mSuccessfully installed conllu-4.5.3 nmslib-2.1.1 pybind11-2.12.0 pysbd-0.3.4 scipy-1.10.1 scispacy-0.5.4\r\n"
     ]
    }
   ],
   "source": [
    "!pip install scispacy"
   ]
  },
  {
   "cell_type": "code",
   "execution_count": 8,
   "id": "38875c0a",
   "metadata": {
    "execution": {
     "iopub.execute_input": "2024-06-29T06:00:00.267016Z",
     "iopub.status.busy": "2024-06-29T06:00:00.266534Z",
     "iopub.status.idle": "2024-06-29T06:00:01.436538Z",
     "shell.execute_reply": "2024-06-29T06:00:01.434420Z"
    },
    "executionInfo": {
     "elapsed": 24,
     "status": "ok",
     "timestamp": 1714734686936,
     "user": {
      "displayName": "Van Tho Nguyen",
      "userId": "16818817557293514665"
     },
     "user_tz": -420
    },
    "id": "6czf2HB5bw5x",
    "outputId": "d878f090-379c-402b-e9e7-e8fe5bc86353",
    "papermill": {
     "duration": 1.192892,
     "end_time": "2024-06-29T06:00:01.439730",
     "exception": false,
     "start_time": "2024-06-29T06:00:00.246838",
     "status": "completed"
    },
    "tags": []
   },
   "outputs": [
    {
     "name": "stdout",
     "output_type": "stream",
     "text": [
      "README.md  SynSpERT  data_config\r\n"
     ]
    }
   ],
   "source": [
    "!ls"
   ]
  },
  {
   "cell_type": "code",
   "execution_count": 9,
   "id": "db27a64c",
   "metadata": {
    "execution": {
     "iopub.execute_input": "2024-06-29T06:00:01.482422Z",
     "iopub.status.busy": "2024-06-29T06:00:01.481921Z",
     "iopub.status.idle": "2024-06-29T06:00:01.491853Z",
     "shell.execute_reply": "2024-06-29T06:00:01.490156Z"
    },
    "executionInfo": {
     "elapsed": 89113,
     "status": "ok",
     "timestamp": 1714734776032,
     "user": {
      "displayName": "Van Tho Nguyen",
      "userId": "16818817557293514665"
     },
     "user_tz": -420
    },
    "id": "j_YPRo7qGSeH",
    "outputId": "1626caab-512a-416d-d698-e88a9a70dcdf",
    "papermill": {
     "duration": 0.036905,
     "end_time": "2024-06-29T06:00:01.495574",
     "exception": false,
     "start_time": "2024-06-29T06:00:01.458669",
     "status": "completed"
    },
    "tags": []
   },
   "outputs": [],
   "source": [
    "#!pip install stanza"
   ]
  },
  {
   "cell_type": "code",
   "execution_count": 10,
   "id": "081d8beb",
   "metadata": {
    "execution": {
     "iopub.execute_input": "2024-06-29T06:00:01.535397Z",
     "iopub.status.busy": "2024-06-29T06:00:01.534848Z",
     "iopub.status.idle": "2024-06-29T14:55:29.462947Z",
     "shell.execute_reply": "2024-06-29T14:55:29.460672Z"
    },
    "executionInfo": {
     "elapsed": 3085167,
     "status": "ok",
     "timestamp": 1714850101483,
     "user": {
      "displayName": "Van Tho Nguyen",
      "userId": "16818817557293514665"
     },
     "user_tz": -420
    },
    "id": "OJn5M7wxwLtA",
    "outputId": "f7e13f67-1cea-4319-b578-e20e0f6f30da",
    "papermill": {
     "duration": 32127.952072,
     "end_time": "2024-06-29T14:55:29.466301",
     "exception": false,
     "start_time": "2024-06-29T06:00:01.514229",
     "status": "completed"
    },
    "tags": []
   },
   "outputs": [
    {
     "name": "stdout",
     "output_type": "stream",
     "text": [
      "*** Commandline:  train --model_type syn_spert --label 'scierc_train'         --model_path  data_config/pretrained/scibert_scivocab_cased --tokenizer_path  data_config/pretrained/scibert_scivocab_cased         --train_path  data_config/data/datasets/scierc/scierc_train_dev_aug.json --valid_path data_config/data/datasets/scierc/scierc_test_aug.json         --types_path data_config/data/datasets/scierc/scierc_types.json --cache_path  data_config/data/cache/         --size_embedding 25 --train_batch_size 10          False --pos_embedding 25         --use_entity_clf none         --eval_batch_size 2 --epochs 40 --lr 5e-5 --lr_warmup 0.1         --weight_decay 0.01 --max_grad_norm 1.0 --prop_drop 0.2         --neg_entity_count 100 --neg_relation_count 100         --max_span_size 10 --rel_filter_threshold 0.4 --max_pairs 1000         --sampling_processes 4 --sampling_limit 100          --store_predictions True --store_examples True         --log_path  data_config/data/log/ --save_path data_config/data/save/         --max_seq_length 512 --config_path  data_config/configs/config.json         --gradient_accumulation_steps 1 --wordpiece_aligned_dep_graph --seed 656         --final_eval\r\n",
      "*** Parsed commandline arguments:  Namespace(mode='train', config_path='data_config/configs/config.json', types_path='data_config/data/datasets/scierc/scierc_types.json', tokenizer_path='data_config/pretrained/scibert_scivocab_cased', max_span_size=10, lowercase=False, sampling_processes=4, sampling_limit=100, label=\"'scierc_train'\", log_path='data_config/data/log/', store_predictions=True, store_examples=True, example_count=None, debug=False, model_path='data_config/pretrained/scibert_scivocab_cased', model_type='syn_spert', cpu=False, eval_batch_size=2, max_pairs=1000, rel_filter_threshold=0.4, size_embedding=25, prop_drop=0.2, freeze_transformer=False, no_overlapping=False, seed=656, cache_path='data_config/data/cache/', train_path='data_config/data/datasets/scierc/scierc_train_dev_aug.json', valid_path='data_config/data/datasets/scierc/scierc_test_aug.json', save_path='data_config/data/save/', init_eval=False, save_optimizer=False, train_log_iter=1, final_eval=True, train_batch_size=10, epochs=40, neg_entity_count=100, neg_relation_count=100, lr=5e-05, lr_warmup=0.1, weight_decay=0.01, max_grad_norm=1.0, dataset_path=None, pos_embedding=25, use_pos=False, use_entity_clf='none')\r\n",
      "2024-06-29 06:00:35,910 [MainThread  ] [INFO ]  Datasets: data_config/data/datasets/scierc/scierc_train_dev_aug.json, data_config/data/datasets/scierc/scierc_test_aug.json\r\n",
      "2024-06-29 06:00:35,910 [MainThread  ] [INFO ]  Model type: syn_spert\r\n",
      "Parse dataset 'train': 100%|███████████████| 2136/2136 [00:06<00:00, 332.87it/s]\r\n",
      "Parse dataset 'valid': 100%|█████████████████| 551/551 [00:02<00:00, 275.18it/s]\r\n",
      "2024-06-29 06:00:44,443 [MainThread  ] [INFO ]  Relation type count: 8\r\n",
      "2024-06-29 06:00:44,443 [MainThread  ] [INFO ]  Entity type count: 7\r\n",
      "2024-06-29 06:00:44,443 [MainThread  ] [INFO ]  Entities:\r\n",
      "2024-06-29 06:00:44,444 [MainThread  ] [INFO ]  No Entity=0\r\n",
      "2024-06-29 06:00:44,444 [MainThread  ] [INFO ]  Task=1\r\n",
      "2024-06-29 06:00:44,444 [MainThread  ] [INFO ]  Method=2\r\n",
      "2024-06-29 06:00:44,444 [MainThread  ] [INFO ]  Material=3\r\n",
      "2024-06-29 06:00:44,444 [MainThread  ] [INFO ]  Other Scientific Term=4\r\n",
      "2024-06-29 06:00:44,445 [MainThread  ] [INFO ]  Metric=5\r\n",
      "2024-06-29 06:00:44,445 [MainThread  ] [INFO ]  Generic=6\r\n",
      "2024-06-29 06:00:44,445 [MainThread  ] [INFO ]  Relations:\r\n",
      "2024-06-29 06:00:44,445 [MainThread  ] [INFO ]  No Relation=0\r\n",
      "2024-06-29 06:00:44,445 [MainThread  ] [INFO ]  Used-for=1\r\n",
      "2024-06-29 06:00:44,445 [MainThread  ] [INFO ]  Feature-of=2\r\n",
      "2024-06-29 06:00:44,445 [MainThread  ] [INFO ]  Hyponym-of=3\r\n",
      "2024-06-29 06:00:44,445 [MainThread  ] [INFO ]  Evaluate-for=4\r\n",
      "2024-06-29 06:00:44,446 [MainThread  ] [INFO ]  Part-of=5\r\n",
      "2024-06-29 06:00:44,446 [MainThread  ] [INFO ]  Compare=6\r\n",
      "2024-06-29 06:00:44,446 [MainThread  ] [INFO ]  Conjunction=7\r\n",
      "2024-06-29 06:00:44,446 [MainThread  ] [INFO ]  Dataset: train\r\n",
      "2024-06-29 06:00:44,446 [MainThread  ] [INFO ]  Document count: 2136\r\n",
      "2024-06-29 06:00:44,446 [MainThread  ] [INFO ]  Relation count: 3674\r\n",
      "2024-06-29 06:00:44,446 [MainThread  ] [INFO ]  Entity count: 6409\r\n",
      "2024-06-29 06:00:44,446 [MainThread  ] [INFO ]  Dataset: valid\r\n",
      "2024-06-29 06:00:44,447 [MainThread  ] [INFO ]  Document count: 551\r\n",
      "2024-06-29 06:00:44,447 [MainThread  ] [INFO ]  Relation count: 974\r\n",
      "2024-06-29 06:00:44,447 [MainThread  ] [INFO ]  Entity count: 1685\r\n",
      "2024-06-29 06:00:44,447 [MainThread  ] [INFO ]  Context size: 109\r\n",
      "2024-06-29 06:00:44,447 [MainThread  ] [INFO ]  Updates per epoch: 213\r\n",
      "2024-06-29 06:00:44,447 [MainThread  ] [INFO ]  Updates total: 8520\r\n",
      "**** Calling model_class.from_pretrained(): TYPE:  syn_spert ****\r\n",
      "/opt/conda/lib/python3.10/site-packages/torch/_utils.py:831: UserWarning: TypedStorage is deprecated. It will be removed in the future and UntypedStorage will be the only storage class. This should only matter to you if you are using storages directly.  To access UntypedStorage directly, use tensor.untyped_storage() instead of tensor.storage()\r\n",
      "  return self.fget.__get__(instance, owner)()\r\n",
      "Some weights of the model checkpoint at data_config/pretrained/scibert_scivocab_cased were not used when initializing SynSpERT: ['cls.predictions.bias', 'cls.predictions.decoder.bias', 'cls.predictions.decoder.weight', 'cls.predictions.transform.LayerNorm.bias', 'cls.predictions.transform.LayerNorm.weight', 'cls.predictions.transform.dense.bias', 'cls.predictions.transform.dense.weight', 'cls.seq_relationship.bias', 'cls.seq_relationship.weight']\r\n",
      "- This IS expected if you are initializing SynSpERT from the checkpoint of a model trained on another task or with another architecture (e.g. initializing a BertForSequenceClassification model from a BertForPreTraining model).\r\n",
      "- This IS NOT expected if you are initializing SynSpERT from the checkpoint of a model that you expect to be exactly identical (initializing a BertForSequenceClassification model from a BertForSequenceClassification model).\r\n",
      "Some weights of SynSpERT were not initialized from the model checkpoint at data_config/pretrained/scibert_scivocab_cased and are newly initialized: ['entity_classifier.bias', 'entity_classifier.weight', 'fusion_gate.f_gate.0.bias', 'fusion_gate.f_gate.0.weight', 'fusion_gate.f_gate.1.bias', 'fusion_gate.f_gate.1.weight', 'highwaynet.gate.0.bias', 'highwaynet.gate.0.weight', 'highwaynet.gate.1.bias', 'highwaynet.gate.1.weight', 'highwaynet.linear.0.bias', 'highwaynet.linear.0.weight', 'highwaynet.linear.1.bias', 'highwaynet.linear.1.weight', 'highwaynet.non_linear.0.bias', 'highwaynet.non_linear.0.weight', 'highwaynet.non_linear.1.bias', 'highwaynet.non_linear.1.weight', 'multihead_attn.key.linear.bias', 'multihead_attn.key.linear.weight', 'multihead_attn.output.bias', 'multihead_attn.output.weight', 'multihead_attn.query.linear.bias', 'multihead_attn.query.linear.weight', 'multihead_attn.value.linear.bias', 'multihead_attn.value.linear.weight', 'pos_embeddings.weight', 'projection_context.0.bias', 'projection_context.0.weight', 'projection_context.2.bias', 'projection_context.2.weight', 'projection_entity.0.bias', 'projection_entity.0.weight', 'projection_entity.2.bias', 'projection_entity.2.weight', 'projection_full.0.bias', 'projection_full.0.weight', 'projection_full.2.bias', 'projection_full.2.weight', 'projection_repr.0.bias', 'projection_repr.0.weight', 'projection_repr.2.bias', 'projection_repr.2.weight', 'rel_classifier.bias', 'rel_classifier.weight', 'size_embeddings.weight']\r\n",
      "You should probably TRAIN this model on a down-stream task to be able to use it for predictions and inference.\r\n",
      "Model type =  <class 'spert.models.SynSpERT'>\r\n",
      "/opt/conda/lib/python3.10/site-packages/transformers/optimization.py:457: FutureWarning: This implementation of AdamW is deprecated and will be removed in a future version. Use the PyTorch implementation torch.optim.AdamW instead, or set `no_deprecation_warning=True` to disable this warning\r\n",
      "  warnings.warn(\r\n",
      "2024-06-29 06:00:46,478 [MainThread  ] [INFO ]  Train epoch: 0\r\n",
      "Train epoch 0:   0%|                                    | 0/213 [00:00<?, ?it/s]/opt/conda/lib/python3.10/multiprocessing/popen_fork.py:66: RuntimeWarning: os.fork() was called. os.fork() is incompatible with multithreaded code, and JAX is multithreaded, so this will likely lead to a deadlock.\r\n",
      "  self.pid = os.fork()\r\n",
      "Train epoch 0: 100%|██████████████████████████| 213/213 [13:28<00:00,  3.80s/it]\r\n",
      "2024-06-29 06:14:14,899 [MainThread  ] [INFO ]  Train epoch: 1\r\n",
      "Train epoch 1: 100%|██████████████████████████| 213/213 [12:41<00:00,  3.57s/it]\r\n",
      "2024-06-29 06:26:56,212 [MainThread  ] [INFO ]  Train epoch: 2\r\n",
      "Train epoch 2: 100%|██████████████████████████| 213/213 [13:16<00:00,  3.74s/it]\r\n",
      "2024-06-29 06:40:12,819 [MainThread  ] [INFO ]  Train epoch: 3\r\n",
      "Train epoch 3: 100%|██████████████████████████| 213/213 [13:05<00:00,  3.69s/it]\r\n",
      "2024-06-29 06:53:17,945 [MainThread  ] [INFO ]  Train epoch: 4\r\n",
      "Train epoch 4: 100%|██████████████████████████| 213/213 [13:23<00:00,  3.77s/it]\r\n",
      "2024-06-29 07:06:41,466 [MainThread  ] [INFO ]  Train epoch: 5\r\n",
      "Train epoch 5: 100%|██████████████████████████| 213/213 [13:02<00:00,  3.67s/it]\r\n",
      "2024-06-29 07:19:43,806 [MainThread  ] [INFO ]  Train epoch: 6\r\n",
      "Train epoch 6: 100%|██████████████████████████| 213/213 [13:21<00:00,  3.76s/it]\r\n",
      "2024-06-29 07:33:05,537 [MainThread  ] [INFO ]  Train epoch: 7\r\n",
      "Train epoch 7: 100%|██████████████████████████| 213/213 [13:10<00:00,  3.71s/it]\r\n",
      "2024-06-29 07:46:15,782 [MainThread  ] [INFO ]  Train epoch: 8\r\n",
      "Train epoch 8: 100%|██████████████████████████| 213/213 [13:03<00:00,  3.68s/it]\r\n",
      "2024-06-29 07:59:19,471 [MainThread  ] [INFO ]  Train epoch: 9\r\n",
      "Train epoch 9: 100%|██████████████████████████| 213/213 [13:34<00:00,  3.82s/it]\r\n",
      "2024-06-29 08:12:54,198 [MainThread  ] [INFO ]  Train epoch: 10\r\n",
      "Train epoch 10: 100%|█████████████████████████| 213/213 [13:28<00:00,  3.80s/it]\r\n",
      "2024-06-29 08:26:22,853 [MainThread  ] [INFO ]  Train epoch: 11\r\n",
      "Train epoch 11: 100%|█████████████████████████| 213/213 [13:29<00:00,  3.80s/it]\r\n",
      "2024-06-29 08:39:52,521 [MainThread  ] [INFO ]  Train epoch: 12\r\n",
      "Train epoch 12: 100%|█████████████████████████| 213/213 [13:24<00:00,  3.77s/it]\r\n",
      "2024-06-29 08:53:16,595 [MainThread  ] [INFO ]  Train epoch: 13\r\n",
      "Train epoch 13: 100%|█████████████████████████| 213/213 [13:18<00:00,  3.75s/it]\r\n",
      "2024-06-29 09:06:34,864 [MainThread  ] [INFO ]  Train epoch: 14\r\n",
      "Train epoch 14: 100%|█████████████████████████| 213/213 [13:26<00:00,  3.78s/it]\r\n",
      "2024-06-29 09:20:00,876 [MainThread  ] [INFO ]  Train epoch: 15\r\n",
      "Train epoch 15: 100%|█████████████████████████| 213/213 [13:24<00:00,  3.78s/it]\r\n",
      "2024-06-29 09:33:25,265 [MainThread  ] [INFO ]  Train epoch: 16\r\n",
      "Train epoch 16: 100%|█████████████████████████| 213/213 [13:26<00:00,  3.78s/it]\r\n",
      "2024-06-29 09:46:51,448 [MainThread  ] [INFO ]  Train epoch: 17\r\n",
      "Train epoch 17: 100%|█████████████████████████| 213/213 [13:25<00:00,  3.78s/it]\r\n",
      "2024-06-29 10:00:16,756 [MainThread  ] [INFO ]  Train epoch: 18\r\n",
      "Train epoch 18: 100%|█████████████████████████| 213/213 [13:40<00:00,  3.85s/it]\r\n",
      "2024-06-29 10:13:57,239 [MainThread  ] [INFO ]  Train epoch: 19\r\n",
      "Train epoch 19: 100%|█████████████████████████| 213/213 [13:22<00:00,  3.77s/it]\r\n",
      "2024-06-29 10:27:19,279 [MainThread  ] [INFO ]  Train epoch: 20\r\n",
      "Train epoch 20: 100%|█████████████████████████| 213/213 [13:31<00:00,  3.81s/it]\r\n",
      "2024-06-29 10:40:50,498 [MainThread  ] [INFO ]  Train epoch: 21\r\n",
      "Train epoch 21: 100%|█████████████████████████| 213/213 [13:18<00:00,  3.75s/it]\r\n",
      "2024-06-29 10:54:08,990 [MainThread  ] [INFO ]  Train epoch: 22\r\n",
      "Train epoch 22: 100%|█████████████████████████| 213/213 [13:22<00:00,  3.77s/it]\r\n",
      "2024-06-29 11:07:31,021 [MainThread  ] [INFO ]  Train epoch: 23\r\n",
      "Train epoch 23: 100%|█████████████████████████| 213/213 [13:28<00:00,  3.80s/it]\r\n",
      "2024-06-29 11:20:59,681 [MainThread  ] [INFO ]  Train epoch: 24\r\n",
      "Train epoch 24: 100%|█████████████████████████| 213/213 [13:24<00:00,  3.78s/it]\r\n",
      "2024-06-29 11:34:24,231 [MainThread  ] [INFO ]  Train epoch: 25\r\n",
      "Train epoch 25: 100%|█████████████████████████| 213/213 [13:24<00:00,  3.78s/it]\r\n",
      "2024-06-29 11:47:48,480 [MainThread  ] [INFO ]  Train epoch: 26\r\n",
      "Train epoch 26: 100%|█████████████████████████| 213/213 [13:19<00:00,  3.75s/it]\r\n",
      "2024-06-29 12:01:07,604 [MainThread  ] [INFO ]  Train epoch: 27\r\n",
      "Train epoch 27: 100%|█████████████████████████| 213/213 [13:37<00:00,  3.84s/it]\r\n",
      "2024-06-29 12:14:45,431 [MainThread  ] [INFO ]  Train epoch: 28\r\n",
      "Train epoch 28: 100%|█████████████████████████| 213/213 [13:22<00:00,  3.77s/it]\r\n",
      "2024-06-29 12:28:07,818 [MainThread  ] [INFO ]  Train epoch: 29\r\n",
      "Train epoch 29: 100%|█████████████████████████| 213/213 [13:12<00:00,  3.72s/it]\r\n",
      "2024-06-29 12:41:20,280 [MainThread  ] [INFO ]  Train epoch: 30\r\n",
      "Train epoch 30: 100%|█████████████████████████| 213/213 [13:04<00:00,  3.68s/it]\r\n",
      "2024-06-29 12:54:24,476 [MainThread  ] [INFO ]  Train epoch: 31\r\n",
      "Train epoch 31: 100%|█████████████████████████| 213/213 [13:12<00:00,  3.72s/it]\r\n",
      "2024-06-29 13:07:37,414 [MainThread  ] [INFO ]  Train epoch: 32\r\n",
      "Train epoch 32: 100%|█████████████████████████| 213/213 [13:20<00:00,  3.76s/it]\r\n",
      "2024-06-29 13:20:57,749 [MainThread  ] [INFO ]  Train epoch: 33\r\n",
      "Train epoch 33: 100%|█████████████████████████| 213/213 [13:15<00:00,  3.73s/it]\r\n",
      "2024-06-29 13:34:13,172 [MainThread  ] [INFO ]  Train epoch: 34\r\n",
      "Train epoch 34: 100%|█████████████████████████| 213/213 [13:18<00:00,  3.75s/it]\r\n",
      "2024-06-29 13:47:32,121 [MainThread  ] [INFO ]  Train epoch: 35\r\n",
      "Train epoch 35: 100%|█████████████████████████| 213/213 [13:16<00:00,  3.74s/it]\r\n",
      "2024-06-29 14:00:48,432 [MainThread  ] [INFO ]  Train epoch: 36\r\n",
      "Train epoch 36: 100%|█████████████████████████| 213/213 [13:11<00:00,  3.72s/it]\r\n",
      "2024-06-29 14:14:00,158 [MainThread  ] [INFO ]  Train epoch: 37\r\n",
      "Train epoch 37: 100%|█████████████████████████| 213/213 [13:16<00:00,  3.74s/it]\r\n",
      "2024-06-29 14:27:16,511 [MainThread  ] [INFO ]  Train epoch: 38\r\n",
      "Train epoch 38: 100%|█████████████████████████| 213/213 [13:14<00:00,  3.73s/it]\r\n",
      "2024-06-29 14:40:31,332 [MainThread  ] [INFO ]  Train epoch: 39\r\n",
      "Train epoch 39: 100%|█████████████████████████| 213/213 [13:16<00:00,  3.74s/it]\r\n",
      "2024-06-29 14:53:47,354 [MainThread  ] [INFO ]  Evaluate: valid\r\n",
      "Evaluate epoch 40: 100%|██████████████████████| 276/276 [01:11<00:00,  3.88it/s]\r\n",
      "Evaluation\r\n",
      "\r\n",
      "--- Entities (named entity recognition (NER)) ---\r\n",
      "An entity is considered correct if the entity type and span is predicted correctly\r\n",
      "\r\n",
      "                type    precision       recall     f1-score      support\r\n",
      "              Metric        65.82        73.24        69.33           71\r\n",
      "                 OST        62.61        66.09        64.31          522\r\n",
      "                Task        65.69        68.44        67.04          263\r\n",
      "            Material        70.19        71.52        70.85          158\r\n",
      "              Method        78.43        74.42        76.37          430\r\n",
      "             Generic        71.65        75.52        73.54          241\r\n",
      "\r\n",
      "               micro        69.02        70.74        69.87         1685\r\n",
      "               macro        69.07        71.54        70.24         1685\r\n",
      "\r\n",
      "--- Relations ---\r\n",
      "\r\n",
      "Without named entity classification (NEC)\r\n",
      "A relation is considered correct if the relation type and the spans of the two related entities are predicted correctly (entity type is not considered)\r\n",
      "\r\n",
      "                type    precision       recall     f1-score      support\r\n",
      "             Part-of        33.33        19.05        24.24           63\r\n",
      "        Evaluate-for        55.13        47.25        50.89           91\r\n",
      "            Used-for        49.67        42.96        46.08          533\r\n",
      "         Conjunction        54.73        65.85        59.78          123\r\n",
      "             Compare        67.65        60.53        63.89           38\r\n",
      "          Hyponym-of        56.63        70.15        62.67           67\r\n",
      "          Feature-of        24.49        20.34        22.22           59\r\n",
      "\r\n",
      "               micro        50.28        45.89        47.99          974\r\n",
      "               macro        48.80        46.59        47.11          974\r\n",
      "\r\n",
      "With named entity classification (NEC)\r\n",
      "A relation is considered correct if the relation type and the two related entities are predicted correctly (in span and entity type)\r\n",
      "\r\n",
      "                type    precision       recall     f1-score      support\r\n",
      "             Part-of        25.00        14.29        18.18           63\r\n",
      "        Evaluate-for        48.72        41.76        44.97           91\r\n",
      "            Used-for        36.01        31.14        33.40          533\r\n",
      "         Conjunction        43.92        52.85        47.97          123\r\n",
      "             Compare        58.82        52.63        55.56           38\r\n",
      "          Hyponym-of        32.53        40.30        36.00           67\r\n",
      "          Feature-of        18.37        15.25        16.67           59\r\n",
      "\r\n",
      "               micro        37.57        34.29        35.86          974\r\n",
      "               macro        37.62        35.46        36.11          974\r\n",
      "2024-06-29 14:55:01.236334: E external/local_xla/xla/stream_executor/cuda/cuda_dnn.cc:9261] Unable to register cuDNN factory: Attempting to register factory for plugin cuDNN when one has already been registered\r\n",
      "2024-06-29 14:55:01.236529: E external/local_xla/xla/stream_executor/cuda/cuda_fft.cc:607] Unable to register cuFFT factory: Attempting to register factory for plugin cuFFT when one has already been registered\r\n",
      "2024-06-29 14:55:01.453835: E external/local_xla/xla/stream_executor/cuda/cuda_blas.cc:1515] Unable to register cuBLAS factory: Attempting to register factory for plugin cuBLAS when one has already been registered\r\n",
      "2024-06-29 14:55:26,519 [MainThread  ] [INFO ]  Logged in: data_config/data/log/'scierc_train'/2024-06-29_06-00-35.822011\r\n",
      "2024-06-29 14:55:26,519 [MainThread  ] [INFO ]  Saved in: data_config/data/save/'scierc_train'/2024-06-29_06-00-35.822011\r\n"
     ]
    }
   ],
   "source": [
    "!python3 SynSpERT/main.py"
   ]
  }
 ],
 "metadata": {
  "colab": {
   "authorship_tag": "ABX9TyNd8yPUEhJDzfZcK622KKQh",
   "mount_file_id": "17_be9pByO_h7ffGydvs1-3fk8XvJO9hi",
   "provenance": []
  },
  "kaggle": {
   "accelerator": "none",
   "dataSources": [],
   "dockerImageVersionId": 30698,
   "isGpuEnabled": false,
   "isInternetEnabled": true,
   "language": "python",
   "sourceType": "notebook"
  },
  "kernelspec": {
   "display_name": "Python 3",
   "language": "python",
   "name": "python3"
  },
  "language_info": {
   "codemirror_mode": {
    "name": "ipython",
    "version": 3
   },
   "file_extension": ".py",
   "mimetype": "text/x-python",
   "name": "python",
   "nbconvert_exporter": "python",
   "pygments_lexer": "ipython3",
   "version": "3.10.13"
  },
  "papermill": {
   "default_parameters": {},
   "duration": 32365.261911,
   "end_time": "2024-06-29T14:55:30.866996",
   "environment_variables": {},
   "exception": null,
   "input_path": "__notebook__.ipynb",
   "output_path": "__notebook__.ipynb",
   "parameters": {},
   "start_time": "2024-06-29T05:56:05.605085",
   "version": "2.5.0"
  }
 },
 "nbformat": 4,
 "nbformat_minor": 5
}
